{
 "cells": [
  {
   "cell_type": "code",
   "execution_count": 2,
   "id": "58e270ad",
   "metadata": {},
   "outputs": [],
   "source": [
    "text = \"\"\"Next-Level Crunch, Creamy and Comforting Texture, and Fresh Veggies\n",
    "Foodservice insider In-Sight says engaging, heightened textures are something pizza lovers continue to yearn for. They describe this texture as “enhanced crunch,” and it’s the perfect complement to another of 2024’s biggest food trends: creamy and comforting.\n",
    "\n",
    "If you’re wondering how to harness these insights as part of your pizza program, we’ve got a menu-load of ideas. Try pairing creamy, indulgent ingredients with crunchy toppings like toasted lentils or crispy pancetta.\n",
    "\n",
    "Alternatively, we invite you to lean into another trend pizza eaters are interested in seeing on their pies: surprising veggies and greens, including green onion, kale, and arugula. A crispy kale pizza with crunchy thin crust and creamy cheeses hits on all three of these big taste trends—and is a likely frontrunner for your menu.\n",
    "\n",
    "Global Experiences\n",
    "Perhaps as a long-term result of being cooped up during the pandemic, consumers have the travel itch. And this wanderlust is influencing their eating habits. Booking.com calls aspiring global foodies “culinary excavators,” saying they are “leaning on gastro-tourism to embrace the unique history, geography, and produce that makes for one-of-a-kind cuisine that will awaken the senses.”\n",
    "\n",
    "For restaurants, retailers, and convenience stores hoping to deliver an international flavor experience to their customers (with no need for a plane ticket), here are key takeaways to savor:\n",
    "\n",
    "users are frequently searching for Thai pizza\n",
    "\n",
    "Indian flavors are among the fastest-growing pizza flavors\n",
    "Internet users are more frequently searching for Thai pizza and Thai peanut pizza\n",
    "Some of the top ingredients in snacks and frozen foods are sesame seeds, ginger, jerk, spicy honey, miso, and tahini\n",
    "Asian ingredients like chaat masala, Kashmiri chili, and togarashi are also resonating with one-third of consumers\n",
    "Emerging Localized Pizza Styles\n",
    "Detroit-style pizza might have been head cheese in 2023, but 2024 will be the year of the Roman and Brooklyn-style ‘zas.\n",
    "\n",
    "What is Roman-style pizza?\n",
    "Also known as pizza al taglio (“pizza by the cut”) or pizza romana, Roman-style pizza is a rectangular pizza with a crisp, airy crust. It’s topping-friendly, so there’s no need to hold back—add all the meats, veggies, sauces, and cheeses your heart (and stomach) desires.\n",
    "\n",
    "What is Brooklyn-style pizza?\n",
    "If we asked you to name the places where pizza is most beloved, we’d bet your top two answers would be Italy and New York. You’d be right, as the Big Apple is known as the pizza capital of the USA, with nine of the top 50 pizzerias in the country being located in Brooklyn and Manhattan.\n",
    "\n",
    "The Brooklyn borough has a pizza style all its own, and it’s a style that consumers are searching for in 2024. Brooklyn-style pizza is large when compared to other styles and characterized by a thin, stretched crust. These pies are typically topped simply, and with a very particular half-mozzarella-half-provolone cheese blend.\n",
    "\n",
    "Get More Fresh Insights and Trends: Download our Free Guide\n",
    "Still hungry? We’ve got so much more in store.\n",
    "\n",
    "Keep your customers coming back and ensure your business is on the cutting edge of the food industry with our free guide, “Top Your Competition: The State of the Pizza Nation in 2024.” This exclusive resource shares the hottest flavors, consumer trends, and predictions for the pizza industry as well as knowledge and tips for three of the industry sectors we proudly serve: restaurants, retail, and convenience stores.\n",
    "\n",
    "Get your free guide today—it’s hot, fresh, and ready to boost your profits!\"\"\""
   ]
  },
  {
   "cell_type": "code",
   "execution_count": 3,
   "id": "a46b8286",
   "metadata": {},
   "outputs": [
    {
     "name": "stdout",
     "output_type": "stream",
     "text": [
      "----\n",
      "Next-Level Crunch, Creamy and Comforting Texture, and Fresh Veggies\n",
      "Foodservice insider In-Sight says engaging, heightened textures are something pizza lovers continue to yearn for. They describe this texture as “enhanced crunch,” and it’s the perfect complement to another of 2024’s biggest food trends: creamy and comforting.\n",
      "\n",
      "If you’re wondering how to harness these insights as part of your pizza program, we’ve got a menu-load of ideas. Try pairing creamy, indulgent ingredients with crunchy toppings like toasted lentils or crispy pancetta.\n",
      "\n",
      "Alternatively, we invite you to lean into another trend pizza eaters are interested in seeing on their pies: surprising veggies and greens, including green onion, kale, and arugula. A crispy kale pizza with crunchy thin crust and creamy cheeses hits on all three of these big taste trends—and is a likely frontrunner for your menu.\n",
      "\n",
      "Global Experiences\n",
      "Perhaps as a long-term result of being cooped up during the pandemic, consumers have the travel itch. And this wanderlust is influencing their eating habits. Booking.com calls aspiring global foodies “culinary excavators,” saying they are “leaning on gastro-tourism to embrace the unique history, geography, and produce that makes for one-of-a-kind cuisine that will awaken the senses.”\n",
      "\n",
      "For restaurants, retailers, and convenience stores hoping to deliver an international flavor experience to their customers (with no need for a plane ticket), here are key takeaways to savor:\n",
      "\n",
      "users are frequently searching for Thai pizza\n",
      "\n",
      "Indian flavors are among the fastest-growing pizza flavors\n",
      "Internet users are more frequently searching for Thai pizza and Thai peanut pizza\n",
      "Some of the top ingredients in snacks and frozen foods are sesame seeds, ginger, jerk, spicy honey, miso, and tahini\n",
      "Asian ingredients like chaat masala, Kashmiri chili, and togarashi are also resonating with one-third of consumers\n",
      "Emerging Localized Pizza Styles\n",
      "Detroit-style pizza might have been head cheese in 2023, but 2024 will be the year of the Roman and Brooklyn-style ‘zas.\n",
      "\n",
      "What is Roman-style pizza?\n",
      "Also known as pizza al taglio (“pizza by the cut”) or pizza romana, Roman-style pizza is a rectangular pizza with a crisp, airy crust. It’s topping-friendly, so there’s no need to hold back—add all the meats, veggies, sauces, and cheeses your heart (and stomach) desires.\n",
      "\n",
      "What is Brooklyn-style pizza?\n",
      "If we asked you to name the places where pizza is most beloved, we’d bet your top two answers would be Italy and New York. You’d be right, as the Big Apple is known as the pizza capital of the USA, with nine of the top 50 pizzerias in the country being located in Brooklyn and Manhattan.\n",
      "\n",
      "The Brooklyn borough has a pizza style all its own, and it’s a style that consumers are searching for in 2024. Brooklyn-style pizza is large when compared to other styles and characterized by a thin, stretched crust. These pies are typically topped simply, and with a very particular half-mozzarella-half-provolone cheese blend.\n",
      "\n",
      "Get More Fresh Insights and Trends: Download our Free Guide\n",
      "Still hungry? We’ve got so much more in store.\n",
      "\n",
      "Keep your customers coming back and ensure your business is on the cutting edge of the food industry with our free guide, “Top Your Competition: The State of the Pizza Nation in 2024.” This exclusive resource shares the hottest flavors, consumer trends, and predictions for the pizza industry as well as knowledge and tips for three of the industry sectors we proudly serve: restaurants, retail, and convenience stores.\n",
      "\n",
      "Get your free guide today—it’s hot, fresh, and ready to boost your profits!\n",
      "Length:  3607\n",
      "----\n",
      "[78, 101, 120, 116, 45, 76, 101, 118, 101, 108, 32, 67, 114, 117, 110, 99, 104, 44, 32, 67, 114, 101, 97, 109, 121, 32, 97, 110, 100, 32, 67, 111, 109, 102, 111, 114, 116, 105, 110, 103, 32, 84, 101, 120, 116, 117, 114, 101, 44, 32, 97, 110, 100, 32, 70, 114, 101, 115, 104, 32, 86, 101, 103, 103, 105, 101, 115, 10, 70, 111, 111, 100, 115, 101, 114, 118, 105, 99, 101, 32, 105, 110, 115, 105, 100, 101, 114, 32, 73, 110, 45, 83, 105, 103, 104, 116, 32, 115, 97, 121, 115, 32, 101, 110, 103, 97, 103, 105, 110, 103, 44, 32, 104, 101, 105, 103, 104, 116, 101, 110, 101, 100, 32, 116, 101, 120, 116, 117, 114, 101, 115, 32, 97, 114, 101, 32, 115, 111, 109, 101, 116, 104, 105, 110, 103, 32, 112, 105, 122, 122, 97, 32, 108, 111, 118, 101, 114, 115, 32, 99, 111, 110, 116, 105, 110, 117, 101, 32, 116, 111, 32, 121, 101, 97, 114, 110, 32, 102, 111, 114, 46, 32, 84, 104, 101, 121, 32, 100, 101, 115, 99, 114, 105, 98, 101, 32, 116, 104, 105, 115, 32, 116, 101, 120, 116, 117, 114, 101, 32, 97, 115, 32, 226, 128, 156, 101, 110, 104, 97, 110, 99, 101, 100, 32, 99, 114, 117, 110, 99, 104, 44, 226, 128, 157, 32, 97, 110, 100, 32, 105, 116, 226, 128, 153, 115, 32, 116, 104, 101, 32, 112, 101, 114, 102, 101, 99, 116, 32, 99, 111, 109, 112, 108, 101, 109, 101, 110, 116, 32, 116, 111, 32, 97, 110, 111, 116, 104, 101, 114, 32, 111, 102, 32, 50, 48, 50, 52, 226, 128, 153, 115, 32, 98, 105, 103, 103, 101, 115, 116, 32, 102, 111, 111, 100, 32, 116, 114, 101, 110, 100, 115, 58, 32, 99, 114, 101, 97, 109, 121, 32, 97, 110, 100, 32, 99, 111, 109, 102, 111, 114, 116, 105, 110, 103, 46, 10, 10, 73, 102, 32, 121, 111, 117, 226, 128, 153, 114, 101, 32, 119, 111, 110, 100, 101, 114, 105, 110, 103, 32, 104, 111, 119, 32, 116, 111, 32, 104, 97, 114, 110, 101, 115, 115, 32, 116, 104, 101, 115, 101, 32, 105, 110, 115, 105, 103, 104, 116, 115, 32, 97, 115, 32, 112, 97, 114, 116, 32, 111, 102, 32, 121, 111, 117, 114, 32, 112, 105, 122, 122, 97, 32, 112, 114, 111, 103, 114, 97, 109, 44, 32, 119, 101, 226, 128, 153, 118, 101, 32, 103, 111, 116, 32, 97, 32, 109, 101, 110, 117, 45, 108, 111, 97, 100, 32, 111, 102, 32, 105, 100, 101, 97, 115, 46, 32, 84, 114, 121, 32, 112, 97, 105, 114, 105, 110, 103, 32, 99, 114, 101, 97, 109, 121, 44, 32, 105, 110, 100, 117, 108, 103, 101, 110, 116, 32, 105, 110, 103, 114, 101, 100, 105, 101, 110, 116, 115, 32, 119, 105, 116, 104, 32, 99, 114, 117, 110, 99, 104, 121, 32, 116, 111, 112, 112, 105, 110, 103, 115, 32, 108, 105, 107, 101, 32, 116, 111, 97, 115, 116, 101, 100, 32, 108, 101, 110, 116, 105, 108, 115, 32, 111, 114, 32, 99, 114, 105, 115, 112, 121, 32, 112, 97, 110, 99, 101, 116, 116, 97, 46, 10, 10, 65, 108, 116, 101, 114, 110, 97, 116, 105, 118, 101, 108, 121, 44, 32, 119, 101, 32, 105, 110, 118, 105, 116, 101, 32, 121, 111, 117, 32, 116, 111, 32, 108, 101, 97, 110, 32, 105, 110, 116, 111, 32, 97, 110, 111, 116, 104, 101, 114, 32, 116, 114, 101, 110, 100, 32, 112, 105, 122, 122, 97, 32, 101, 97, 116, 101, 114, 115, 32, 97, 114, 101, 32, 105, 110, 116, 101, 114, 101, 115, 116, 101, 100, 32, 105, 110, 32, 115, 101, 101, 105, 110, 103, 32, 111, 110, 32, 116, 104, 101, 105, 114, 32, 112, 105, 101, 115, 58, 32, 115, 117, 114, 112, 114, 105, 115, 105, 110, 103, 32, 118, 101, 103, 103, 105, 101, 115, 32, 97, 110, 100, 32, 103, 114, 101, 101, 110, 115, 44, 32, 105, 110, 99, 108, 117, 100, 105, 110, 103, 32, 103, 114, 101, 101, 110, 32, 111, 110, 105, 111, 110, 44, 32, 107, 97, 108, 101, 44, 32, 97, 110, 100, 32, 97, 114, 117, 103, 117, 108, 97, 46, 32, 65, 32, 99, 114, 105, 115, 112, 121, 32, 107, 97, 108, 101, 32, 112, 105, 122, 122, 97, 32, 119, 105, 116, 104, 32, 99, 114, 117, 110, 99, 104, 121, 32, 116, 104, 105, 110, 32, 99, 114, 117, 115, 116, 32, 97, 110, 100, 32, 99, 114, 101, 97, 109, 121, 32, 99, 104, 101, 101, 115, 101, 115, 32, 104, 105, 116, 115, 32, 111, 110, 32, 97, 108, 108, 32, 116, 104, 114, 101, 101, 32, 111, 102, 32, 116, 104, 101, 115, 101, 32, 98, 105, 103, 32, 116, 97, 115, 116, 101, 32, 116, 114, 101, 110, 100, 115, 226, 128, 148, 97, 110, 100, 32, 105, 115, 32, 97, 32, 108, 105, 107, 101, 108, 121, 32, 102, 114, 111, 110, 116, 114, 117, 110, 110, 101, 114, 32, 102, 111, 114, 32, 121, 111, 117, 114, 32, 109, 101, 110, 117, 46, 10, 10, 71, 108, 111, 98, 97, 108, 32, 69, 120, 112, 101, 114, 105, 101, 110, 99, 101, 115, 10, 80, 101, 114, 104, 97, 112, 115, 32, 97, 115, 32, 97, 32, 108, 111, 110, 103, 45, 116, 101, 114, 109, 32, 114, 101, 115, 117, 108, 116, 32, 111, 102, 32, 98, 101, 105, 110, 103, 32, 99, 111, 111, 112, 101, 100, 32, 117, 112, 32, 100, 117, 114, 105, 110, 103, 32, 116, 104, 101, 32, 112, 97, 110, 100, 101, 109, 105, 99, 44, 32, 99, 111, 110, 115, 117, 109, 101, 114, 115, 32, 104, 97, 118, 101, 32, 116, 104, 101, 32, 116, 114, 97, 118, 101, 108, 32, 105, 116, 99, 104, 46, 32, 65, 110, 100, 32, 116, 104, 105, 115, 32, 119, 97, 110, 100, 101, 114, 108, 117, 115, 116, 32, 105, 115, 32, 105, 110, 102, 108, 117, 101, 110, 99, 105, 110, 103, 32, 116, 104, 101, 105, 114, 32, 101, 97, 116, 105, 110, 103, 32, 104, 97, 98, 105, 116, 115, 46, 32, 66, 111, 111, 107, 105, 110, 103, 46, 99, 111, 109, 32, 99, 97, 108, 108, 115, 32, 97, 115, 112, 105, 114, 105, 110, 103, 32, 103, 108, 111, 98, 97, 108, 32, 102, 111, 111, 100, 105, 101, 115, 32, 226, 128, 156, 99, 117, 108, 105, 110, 97, 114, 121, 32, 101, 120, 99, 97, 118, 97, 116, 111, 114, 115, 44, 226, 128, 157, 32, 115, 97, 121, 105, 110, 103, 32, 116, 104, 101, 121, 32, 97, 114, 101, 32, 226, 128, 156, 108, 101, 97, 110, 105, 110, 103, 32, 111, 110, 32, 103, 97, 115, 116, 114, 111, 45, 116, 111, 117, 114, 105, 115, 109, 32, 116, 111, 32, 101, 109, 98, 114, 97, 99, 101, 32, 116, 104, 101, 32, 117, 110, 105, 113, 117, 101, 32, 104, 105, 115, 116, 111, 114, 121, 44, 32, 103, 101, 111, 103, 114, 97, 112, 104, 121, 44, 32, 97, 110, 100, 32, 112, 114, 111, 100, 117, 99, 101, 32, 116, 104, 97, 116, 32, 109, 97, 107, 101, 115, 32, 102, 111, 114, 32, 111, 110, 101, 45, 111, 102, 45, 97, 45, 107, 105, 110, 100, 32, 99, 117, 105, 115, 105, 110, 101, 32, 116, 104, 97, 116, 32, 119, 105, 108, 108, 32, 97, 119, 97, 107, 101, 110, 32, 116, 104, 101, 32, 115, 101, 110, 115, 101, 115, 46, 226, 128, 157, 10, 10, 70, 111, 114, 32, 114, 101, 115, 116, 97, 117, 114, 97, 110, 116, 115, 44, 32, 114, 101, 116, 97, 105, 108, 101, 114, 115, 44, 32, 97, 110, 100, 32, 99, 111, 110, 118, 101, 110, 105, 101, 110, 99, 101, 32, 115, 116, 111, 114, 101, 115, 32, 104, 111, 112, 105, 110, 103, 32, 116, 111, 32, 100, 101, 108, 105, 118, 101, 114, 32, 97, 110, 32, 105, 110, 116, 101, 114, 110, 97, 116, 105, 111, 110, 97, 108, 32, 102, 108, 97, 118, 111, 114, 32, 101, 120, 112, 101, 114, 105, 101, 110, 99, 101, 32, 116, 111, 32, 116, 104, 101, 105, 114, 32, 99, 117, 115, 116, 111, 109, 101, 114, 115, 32, 40, 119, 105, 116, 104, 32, 110, 111, 32, 110, 101, 101, 100, 32, 102, 111, 114, 32, 97, 32, 112, 108, 97, 110, 101, 32, 116, 105, 99, 107, 101, 116, 41, 44, 32, 104, 101, 114, 101, 32, 97, 114, 101, 32, 107, 101, 121, 32, 116, 97, 107, 101, 97, 119, 97, 121, 115, 32, 116, 111, 32, 115, 97, 118, 111, 114, 58, 10, 10, 117, 115, 101, 114, 115, 32, 97, 114, 101, 32, 102, 114, 101, 113, 117, 101, 110, 116, 108, 121, 32, 115, 101, 97, 114, 99, 104, 105, 110, 103, 32, 102, 111, 114, 32, 84, 104, 97, 105, 32, 112, 105, 122, 122, 97, 10, 10, 73, 110, 100, 105, 97, 110, 32, 102, 108, 97, 118, 111, 114, 115, 32, 97, 114, 101, 32, 97, 109, 111, 110, 103, 32, 116, 104, 101, 32, 102, 97, 115, 116, 101, 115, 116, 45, 103, 114, 111, 119, 105, 110, 103, 32, 112, 105, 122, 122, 97, 32, 102, 108, 97, 118, 111, 114, 115, 10, 73, 110, 116, 101, 114, 110, 101, 116, 32, 117, 115, 101, 114, 115, 32, 97, 114, 101, 32, 109, 111, 114, 101, 32, 102, 114, 101, 113, 117, 101, 110, 116, 108, 121, 32, 115, 101, 97, 114, 99, 104, 105, 110, 103, 32, 102, 111, 114, 32, 84, 104, 97, 105, 32, 112, 105, 122, 122, 97, 32, 97, 110, 100, 32, 84, 104, 97, 105, 32, 112, 101, 97, 110, 117, 116, 32, 112, 105, 122, 122, 97, 10, 83, 111, 109, 101, 32, 111, 102, 32, 116, 104, 101, 32, 116, 111, 112, 32, 105, 110, 103, 114, 101, 100, 105, 101, 110, 116, 115, 32, 105, 110, 32, 115, 110, 97, 99, 107, 115, 32, 97, 110, 100, 32, 102, 114, 111, 122, 101, 110, 32, 102, 111, 111, 100, 115, 32, 97, 114, 101, 32, 115, 101, 115, 97, 109, 101, 32, 115, 101, 101, 100, 115, 44, 32, 103, 105, 110, 103, 101, 114, 44, 32, 106, 101, 114, 107, 44, 32, 115, 112, 105, 99, 121, 32, 104, 111, 110, 101, 121, 44, 32, 109, 105, 115, 111, 44, 32, 97, 110, 100, 32, 116, 97, 104, 105, 110, 105, 10, 65, 115, 105, 97, 110, 32, 105, 110, 103, 114, 101, 100, 105, 101, 110, 116, 115, 32, 108, 105, 107, 101, 32, 99, 104, 97, 97, 116, 32, 109, 97, 115, 97, 108, 97, 44, 32, 75, 97, 115, 104, 109, 105, 114, 105, 32, 99, 104, 105, 108, 105, 44, 32, 97, 110, 100, 32, 116, 111, 103, 97, 114, 97, 115, 104, 105, 32, 97, 114, 101, 32, 97, 108, 115, 111, 32, 114, 101, 115, 111, 110, 97, 116, 105, 110, 103, 32, 119, 105, 116, 104, 32, 111, 110, 101, 45, 116, 104, 105, 114, 100, 32, 111, 102, 32, 99, 111, 110, 115, 117, 109, 101, 114, 115, 10, 69, 109, 101, 114, 103, 105, 110, 103, 32, 76, 111, 99, 97, 108, 105, 122, 101, 100, 32, 80, 105, 122, 122, 97, 32, 83, 116, 121, 108, 101, 115, 10, 68, 101, 116, 114, 111, 105, 116, 45, 115, 116, 121, 108, 101, 32, 112, 105, 122, 122, 97, 32, 109, 105, 103, 104, 116, 32, 104, 97, 118, 101, 32, 98, 101, 101, 110, 32, 104, 101, 97, 100, 32, 99, 104, 101, 101, 115, 101, 32, 105, 110, 32, 50, 48, 50, 51, 44, 32, 98, 117, 116, 32, 50, 48, 50, 52, 32, 119, 105, 108, 108, 32, 98, 101, 32, 116, 104, 101, 32, 121, 101, 97, 114, 32, 111, 102, 32, 116, 104, 101, 32, 82, 111, 109, 97, 110, 32, 97, 110, 100, 32, 66, 114, 111, 111, 107, 108, 121, 110, 45, 115, 116, 121, 108, 101, 32, 226, 128, 152, 122, 97, 115, 46, 10, 10, 87, 104, 97, 116, 32, 105, 115, 32, 82, 111, 109, 97, 110, 45, 115, 116, 121, 108, 101, 32, 112, 105, 122, 122, 97, 63, 10, 65, 108, 115, 111, 32, 107, 110, 111, 119, 110, 32, 97, 115, 32, 112, 105, 122, 122, 97, 32, 97, 108, 32, 116, 97, 103, 108, 105, 111, 32, 40, 226, 128, 156, 112, 105, 122, 122, 97, 32, 98, 121, 32, 116, 104, 101, 32, 99, 117, 116, 226, 128, 157, 41, 32, 111, 114, 32, 112, 105, 122, 122, 97, 32, 114, 111, 109, 97, 110, 97, 44, 32, 82, 111, 109, 97, 110, 45, 115, 116, 121, 108, 101, 32, 112, 105, 122, 122, 97, 32, 105, 115, 32, 97, 32, 114, 101, 99, 116, 97, 110, 103, 117, 108, 97, 114, 32, 112, 105, 122, 122, 97, 32, 119, 105, 116, 104, 32, 97, 32, 99, 114, 105, 115, 112, 44, 32, 97, 105, 114, 121, 32, 99, 114, 117, 115, 116, 46, 32, 73, 116, 226, 128, 153, 115, 32, 116, 111, 112, 112, 105, 110, 103, 45, 102, 114, 105, 101, 110, 100, 108, 121, 44, 32, 115, 111, 32, 116, 104, 101, 114, 101, 226, 128, 153, 115, 32, 110, 111, 32, 110, 101, 101, 100, 32, 116, 111, 32, 104, 111, 108, 100, 32, 98, 97, 99, 107, 226, 128, 148, 97, 100, 100, 32, 97, 108, 108, 32, 116, 104, 101, 32, 109, 101, 97, 116, 115, 44, 32, 118, 101, 103, 103, 105, 101, 115, 44, 32, 115, 97, 117, 99, 101, 115, 44, 32, 97, 110, 100, 32, 99, 104, 101, 101, 115, 101, 115, 32, 121, 111, 117, 114, 32, 104, 101, 97, 114, 116, 32, 40, 97, 110, 100, 32, 115, 116, 111, 109, 97, 99, 104, 41, 32, 100, 101, 115, 105, 114, 101, 115, 46, 10, 10, 87, 104, 97, 116, 32, 105, 115, 32, 66, 114, 111, 111, 107, 108, 121, 110, 45, 115, 116, 121, 108, 101, 32, 112, 105, 122, 122, 97, 63, 10, 73, 102, 32, 119, 101, 32, 97, 115, 107, 101, 100, 32, 121, 111, 117, 32, 116, 111, 32, 110, 97, 109, 101, 32, 116, 104, 101, 32, 112, 108, 97, 99, 101, 115, 32, 119, 104, 101, 114, 101, 32, 112, 105, 122, 122, 97, 32, 105, 115, 32, 109, 111, 115, 116, 32, 98, 101, 108, 111, 118, 101, 100, 44, 32, 119, 101, 226, 128, 153, 100, 32, 98, 101, 116, 32, 121, 111, 117, 114, 32, 116, 111, 112, 32, 116, 119, 111, 32, 97, 110, 115, 119, 101, 114, 115, 32, 119, 111, 117, 108, 100, 32, 98, 101, 32, 73, 116, 97, 108, 121, 32, 97, 110, 100, 32, 78, 101, 119, 32, 89, 111, 114, 107, 46, 32, 89, 111, 117, 226, 128, 153, 100, 32, 98, 101, 32, 114, 105, 103, 104, 116, 44, 32, 97, 115, 32, 116, 104, 101, 32, 66, 105, 103, 32, 65, 112, 112, 108, 101, 32, 105, 115, 32, 107, 110, 111, 119, 110, 32, 97, 115, 32, 116, 104, 101, 32, 112, 105, 122, 122, 97, 32, 99, 97, 112, 105, 116, 97, 108, 32, 111, 102, 32, 116, 104, 101, 32, 85, 83, 65, 44, 32, 119, 105, 116, 104, 32, 110, 105, 110, 101, 32, 111, 102, 32, 116, 104, 101, 32, 116, 111, 112, 32, 53, 48, 32, 112, 105, 122, 122, 101, 114, 105, 97, 115, 32, 105, 110, 32, 116, 104, 101, 32, 99, 111, 117, 110, 116, 114, 121, 32, 98, 101, 105, 110, 103, 32, 108, 111, 99, 97, 116, 101, 100, 32, 105, 110, 32, 66, 114, 111, 111, 107, 108, 121, 110, 32, 97, 110, 100, 32, 77, 97, 110, 104, 97, 116, 116, 97, 110, 46, 10, 10, 84, 104, 101, 32, 66, 114, 111, 111, 107, 108, 121, 110, 32, 98, 111, 114, 111, 117, 103, 104, 32, 104, 97, 115, 32, 97, 32, 112, 105, 122, 122, 97, 32, 115, 116, 121, 108, 101, 32, 97, 108, 108, 32, 105, 116, 115, 32, 111, 119, 110, 44, 32, 97, 110, 100, 32, 105, 116, 226, 128, 153, 115, 32, 97, 32, 115, 116, 121, 108, 101, 32, 116, 104, 97, 116, 32, 99, 111, 110, 115, 117, 109, 101, 114, 115, 32, 97, 114, 101, 32, 115, 101, 97, 114, 99, 104, 105, 110, 103, 32, 102, 111, 114, 32, 105, 110, 32, 50, 48, 50, 52, 46, 32, 66, 114, 111, 111, 107, 108, 121, 110, 45, 115, 116, 121, 108, 101, 32, 112, 105, 122, 122, 97, 32, 105, 115, 32, 108, 97, 114, 103, 101, 32, 119, 104, 101, 110, 32, 99, 111, 109, 112, 97, 114, 101, 100, 32, 116, 111, 32, 111, 116, 104, 101, 114, 32, 115, 116, 121, 108, 101, 115, 32, 97, 110, 100, 32, 99, 104, 97, 114, 97, 99, 116, 101, 114, 105, 122, 101, 100, 32, 98, 121, 32, 97, 32, 116, 104, 105, 110, 44, 32, 115, 116, 114, 101, 116, 99, 104, 101, 100, 32, 99, 114, 117, 115, 116, 46, 32, 84, 104, 101, 115, 101, 32, 112, 105, 101, 115, 32, 97, 114, 101, 32, 116, 121, 112, 105, 99, 97, 108, 108, 121, 32, 116, 111, 112, 112, 101, 100, 32, 115, 105, 109, 112, 108, 121, 44, 32, 97, 110, 100, 32, 119, 105, 116, 104, 32, 97, 32, 118, 101, 114, 121, 32, 112, 97, 114, 116, 105, 99, 117, 108, 97, 114, 32, 104, 97, 108, 102, 45, 109, 111, 122, 122, 97, 114, 101, 108, 108, 97, 45, 104, 97, 108, 102, 45, 112, 114, 111, 118, 111, 108, 111, 110, 101, 32, 99, 104, 101, 101, 115, 101, 32, 98, 108, 101, 110, 100, 46, 10, 10, 71, 101, 116, 32, 77, 111, 114, 101, 32, 70, 114, 101, 115, 104, 32, 73, 110, 115, 105, 103, 104, 116, 115, 32, 97, 110, 100, 32, 84, 114, 101, 110, 100, 115, 58, 32, 68, 111, 119, 110, 108, 111, 97, 100, 32, 111, 117, 114, 32, 70, 114, 101, 101, 32, 71, 117, 105, 100, 101, 10, 83, 116, 105, 108, 108, 32, 104, 117, 110, 103, 114, 121, 63, 32, 87, 101, 226, 128, 153, 118, 101, 32, 103, 111, 116, 32, 115, 111, 32, 109, 117, 99, 104, 32, 109, 111, 114, 101, 32, 105, 110, 32, 115, 116, 111, 114, 101, 46, 10, 10, 75, 101, 101, 112, 32, 121, 111, 117, 114, 32, 99, 117, 115, 116, 111, 109, 101, 114, 115, 32, 99, 111, 109, 105, 110, 103, 32, 98, 97, 99, 107, 32, 97, 110, 100, 32, 101, 110, 115, 117, 114, 101, 32, 121, 111, 117, 114, 32, 98, 117, 115, 105, 110, 101, 115, 115, 32, 105, 115, 32, 111, 110, 32, 116, 104, 101, 32, 99, 117, 116, 116, 105, 110, 103, 32, 101, 100, 103, 101, 32, 111, 102, 32, 116, 104, 101, 32, 102, 111, 111, 100, 32, 105, 110, 100, 117, 115, 116, 114, 121, 32, 119, 105, 116, 104, 32, 111, 117, 114, 32, 102, 114, 101, 101, 32, 103, 117, 105, 100, 101, 44, 32, 226, 128, 156, 84, 111, 112, 32, 89, 111, 117, 114, 32, 67, 111, 109, 112, 101, 116, 105, 116, 105, 111, 110, 58, 32, 84, 104, 101, 32, 83, 116, 97, 116, 101, 32, 111, 102, 32, 116, 104, 101, 32, 80, 105, 122, 122, 97, 32, 78, 97, 116, 105, 111, 110, 32, 105, 110, 32, 50, 48, 50, 52, 46, 226, 128, 157, 32, 84, 104, 105, 115, 32, 101, 120, 99, 108, 117, 115, 105, 118, 101, 32, 114, 101, 115, 111, 117, 114, 99, 101, 32, 115, 104, 97, 114, 101, 115, 32, 116, 104, 101, 32, 104, 111, 116, 116, 101, 115, 116, 32, 102, 108, 97, 118, 111, 114, 115, 44, 32, 99, 111, 110, 115, 117, 109, 101, 114, 32, 116, 114, 101, 110, 100, 115, 44, 32, 97, 110, 100, 32, 112, 114, 101, 100, 105, 99, 116, 105, 111, 110, 115, 32, 102, 111, 114, 32, 116, 104, 101, 32, 112, 105, 122, 122, 97, 32, 105, 110, 100, 117, 115, 116, 114, 121, 32, 97, 115, 32, 119, 101, 108, 108, 32, 97, 115, 32, 107, 110, 111, 119, 108, 101, 100, 103, 101, 32, 97, 110, 100, 32, 116, 105, 112, 115, 32, 102, 111, 114, 32, 116, 104, 114, 101, 101, 32, 111, 102, 32, 116, 104, 101, 32, 105, 110, 100, 117, 115, 116, 114, 121, 32, 115, 101, 99, 116, 111, 114, 115, 32, 119, 101, 32, 112, 114, 111, 117, 100, 108, 121, 32, 115, 101, 114, 118, 101, 58, 32, 114, 101, 115, 116, 97, 117, 114, 97, 110, 116, 115, 44, 32, 114, 101, 116, 97, 105, 108, 44, 32, 97, 110, 100, 32, 99, 111, 110, 118, 101, 110, 105, 101, 110, 99, 101, 32, 115, 116, 111, 114, 101, 115, 46, 10, 10, 71, 101, 116, 32, 121, 111, 117, 114, 32, 102, 114, 101, 101, 32, 103, 117, 105, 100, 101, 32, 116, 111, 100, 97, 121, 226, 128, 148, 105, 116, 226, 128, 153, 115, 32, 104, 111, 116, 44, 32, 102, 114, 101, 115, 104, 44, 32, 97, 110, 100, 32, 114, 101, 97, 100, 121, 32, 116, 111, 32, 98, 111, 111, 115, 116, 32, 121, 111, 117, 114, 32, 112, 114, 111, 102, 105, 116, 115, 33]\n",
      "Length:  3657\n"
     ]
    }
   ],
   "source": [
    "tokens = text.encode(\"utf-8\")\n",
    "tokens = list(map(int, tokens))\n",
    "print(\"----\")\n",
    "print(text)\n",
    "print(\"Length: \", len(text))\n",
    "print(\"----\")\n",
    "print(tokens)\n",
    "print(\"Length: \", len(tokens))"
   ]
  },
  {
   "cell_type": "code",
   "execution_count": 4,
   "id": "5043636e",
   "metadata": {},
   "outputs": [],
   "source": [
    "def get_stats(ids):\n",
    "    counts = {}\n",
    "    for pair in zip(ids[:], ids[1:]):\n",
    "        counts[pair] = counts.get(pair, 0) + 1\n",
    "    return counts"
   ]
  },
  {
   "cell_type": "code",
   "execution_count": 5,
   "id": "ec66eff5",
   "metadata": {},
   "outputs": [],
   "source": [
    "counts = get_stats(tokens)\n",
    "# print(sorted([(v,k) for k,v in counts.items()], reverse=True))"
   ]
  },
  {
   "cell_type": "code",
   "execution_count": 6,
   "id": "757f29a8",
   "metadata": {},
   "outputs": [],
   "source": [
    "def merge(ids, pair, idx):\n",
    "    newids = []\n",
    "    i = 0\n",
    "    while i < len(ids):\n",
    "        if i < len(ids) - 1 and ids[i] == pair[0] and ids[i+1] == pair[1]:\n",
    "            newids.append(idx)\n",
    "            i += 2\n",
    "        else:\n",
    "            newids.append(ids[i])\n",
    "            i += 1\n",
    "    return newids"
   ]
  },
  {
   "cell_type": "code",
   "execution_count": 7,
   "id": "b6b058cd",
   "metadata": {},
   "outputs": [
    {
     "name": "stdout",
     "output_type": "stream",
     "text": [
      "[1, 8, 8, 5]\n"
     ]
    }
   ],
   "source": [
    "print(merge([1,2,3,2,3,5], (2,3), 8))"
   ]
  },
  {
   "cell_type": "code",
   "execution_count": 8,
   "id": "9b073d60",
   "metadata": {},
   "outputs": [
    {
     "name": "stdout",
     "output_type": "stream",
     "text": [
      "merging pair: (101, 32), creating new index: 256\n",
      "merging pair: (115, 32), creating new index: 257\n",
      "merging pair: (105, 110), creating new index: 258\n",
      "merging pair: (100, 32), creating new index: 259\n",
      "merging pair: (116, 104), creating new index: 260\n",
      "merging pair: (97, 110), creating new index: 261\n",
      "merging pair: (114, 101), creating new index: 262\n",
      "merging pair: (44, 32), creating new index: 263\n",
      "merging pair: (101, 114), creating new index: 264\n",
      "merging pair: (115, 116), creating new index: 265\n",
      "merging pair: (258, 103), creating new index: 266\n",
      "merging pair: (101, 110), creating new index: 267\n",
      "merging pair: (97, 32), creating new index: 268\n",
      "merging pair: (114, 32), creating new index: 269\n",
      "merging pair: (121, 32), creating new index: 270\n",
      "merging pair: (261, 259), creating new index: 271\n",
      "merging pair: (112, 105), creating new index: 272\n",
      "merging pair: (111, 110), creating new index: 273\n",
      "merging pair: (122, 122), creating new index: 274\n",
      "merging pair: (116, 111), creating new index: 275\n"
     ]
    }
   ],
   "source": [
    "def get_stats(ids):\n",
    "    counts = {}\n",
    "    for pair in zip(ids[:], ids[1:]):\n",
    "        counts[pair] = counts.get(pair, 0) + 1\n",
    "    return counts\n",
    "\n",
    "def merge(ids, pair, idx):\n",
    "    newids = []\n",
    "    i = 0\n",
    "    while i < len(ids):\n",
    "        if i < len(ids) - 1 and ids[i] == pair[0] and ids[i+1] == pair[1]:\n",
    "            newids.append(idx)\n",
    "            i += 2\n",
    "        else:\n",
    "            newids.append(ids[i])\n",
    "            i += 1\n",
    "    return newids\n",
    "\n",
    "# ----\n",
    "vocab_size = 276\n",
    "num_merges = vocab_size - 256\n",
    "ids = list(tokens)\n",
    "\n",
    "merges = {}\n",
    "for i in range(num_merges):\n",
    "    stats = get_stats(ids)\n",
    "    pair = max(stats, key = stats.get)\n",
    "    idx = 256 + i\n",
    "    print(f\"merging pair: {pair}, creating new index: {idx}\")\n",
    "    ids = merge(ids, pair, idx)\n",
    "    merges[pair] = idx"
   ]
  },
  {
   "cell_type": "code",
   "execution_count": 9,
   "id": "e838ae18",
   "metadata": {},
   "outputs": [
    {
     "name": "stdout",
     "output_type": "stream",
     "text": [
      "Tokens length:  3657\n",
      "ids length:  2823\n",
      "Compression:  0.7719442165709598\n"
     ]
    }
   ],
   "source": [
    "print(\"Tokens length: \", len(tokens))\n",
    "print(\"ids length: \", len(ids))\n",
    "print(\"Compression: \", len(ids)/len(tokens))"
   ]
  },
  {
   "cell_type": "code",
   "execution_count": 10,
   "id": "ef3fcbba",
   "metadata": {},
   "outputs": [],
   "source": [
    "vocab = {idx: bytes([idx]) for idx in range(256)}\n",
    "for (p0, p1), idx in merges.items():\n",
    "    vocab[idx] = vocab[p0] + vocab[p1]\n",
    "\n",
    "def decode(ids):\n",
    "    tokens = b\"\".join(vocab[idx] for idx in ids)\n",
    "    text = tokens.decode(\"utf-8\", errors=\"replace\")\n",
    "    return text"
   ]
  },
  {
   "cell_type": "code",
   "execution_count": 11,
   "id": "28f1105d",
   "metadata": {},
   "outputs": [
    {
     "name": "stdout",
     "output_type": "stream",
     "text": [
      "�\n"
     ]
    }
   ],
   "source": [
    "print(decode([128]))"
   ]
  },
  {
   "cell_type": "code",
   "execution_count": 14,
   "id": "f5c03bbf",
   "metadata": {},
   "outputs": [
    {
     "name": "stdout",
     "output_type": "stream",
     "text": [
      "[104, 101, 108, 108, 111, 32, 119, 111, 114, 108, 100, 33]\n"
     ]
    }
   ],
   "source": [
    "def encode(text):\n",
    "    tokens = list(text.encode(\"utf-8\"))\n",
    "    while len(tokens) >=2:\n",
    "        stats = get_stats(tokens)\n",
    "        pair = min(stats, key=lambda p: merges.get(p, float(\"inf\")))\n",
    "        if pair not in merges:\n",
    "            break\n",
    "        idx = merges[pair]\n",
    "        tokens = merge(tokens, pair, idx)\n",
    "    return tokens\n",
    "print(encode(\"hello world!\"))"
   ]
  },
  {
   "cell_type": "code",
   "execution_count": 15,
   "id": "b660d5f9",
   "metadata": {},
   "outputs": [
    {
     "name": "stdout",
     "output_type": "stream",
     "text": [
      "poggers\n"
     ]
    }
   ],
   "source": [
    "print(decode(encode(\"poggers\")))"
   ]
  },
  {
   "cell_type": "code",
   "execution_count": null,
   "id": "0769949c",
   "metadata": {},
   "outputs": [],
   "source": []
  }
 ],
 "metadata": {
  "kernelspec": {
   "display_name": "Python 3 (ipykernel)",
   "language": "python",
   "name": "python3"
  },
  "language_info": {
   "codemirror_mode": {
    "name": "ipython",
    "version": 3
   },
   "file_extension": ".py",
   "mimetype": "text/x-python",
   "name": "python",
   "nbconvert_exporter": "python",
   "pygments_lexer": "ipython3",
   "version": "3.11.7"
  }
 },
 "nbformat": 4,
 "nbformat_minor": 5
}
